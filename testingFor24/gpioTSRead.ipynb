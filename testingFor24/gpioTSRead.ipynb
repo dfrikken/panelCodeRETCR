{
 "cells": [
  {
   "cell_type": "markdown",
   "metadata": {},
   "source": [
    "# to do \n",
    "\n",
    "compare python and c gpio monitors"
   ]
  },
  {
   "cell_type": "code",
   "execution_count": 109,
   "metadata": {},
   "outputs": [],
   "source": [
    "import numpy as np\n",
    "\n",
    "import matplotlib.pyplot as plt\n",
    "#from datetime import datetime\n",
    "import datetime\n",
    "import time\n",
    "import pandas as pd\n",
    "import numpy as np\n",
    "import statistics\n",
    "from scipy.optimize import curve_fit\n",
    "import statistics\n",
    "import numpy as np\n",
    "from scipy.stats import norm\n",
    "import matplotlib.pyplot as plt\n",
    "\n",
    "import heapq\n",
    " \n",
    "def closest(lst, K):\n",
    "    #using heapq.nsmallest() to find the element in the list with the smallest absolute difference with K\n",
    "    return heapq.nsmallest(1, lst, key=lambda x: abs(x-K))[0]"
   ]
  },
  {
   "cell_type": "code",
   "execution_count": 3,
   "metadata": {},
   "outputs": [],
   "source": [
    "path = \"/Users/frikken.1/documents/ret/surfaceStation/udaqTimeTesting/runs/\""
   ]
  },
  {
   "cell_type": "markdown",
   "metadata": {},
   "source": [
    "# python timestamp reading"
   ]
  },
  {
   "cell_type": "code",
   "execution_count": 319,
   "metadata": {},
   "outputs": [
    {
     "name": "stdout",
     "output_type": "stream",
     "text": [
      "len p0 1477 len p1 0\n"
     ]
    }
   ],
   "source": [
    "port0List = []\n",
    "port1List = []\n",
    "f = open(path+\"gpioMonitor.txt\", \"r\")\n",
    "i=0\n",
    "for x in f:\n",
    "    i+=1\n",
    "    numVal = x.strip('\\n').split(',')\n",
    "    if numVal[0] == '17':\n",
    "        port0List.append(np.int64(numVal[1]))\n",
    "    if numVal[0] == '22':\n",
    "        port1List.append(np.int64(numVal[1]))\n",
    "    \n",
    "    #hitVal = numVal[0] + numVal[1]\n",
    "    #hitTimeNS = np.int64(hitVal)\n",
    "   \n",
    "    #print(x.strip('\\n'))\n",
    "    #if i < 10:\n",
    "        #print(numVal)\n",
    "        #if numVal[0] =='22':\n",
    "            \n",
    "        #print(x.split(\",\"))\n",
    "        #print(np.float64(numVal))\n",
    "        #print(numVal)\n",
    "        #print(hitTimeNS)\n",
    "    #port0List.append(hitTimeNS)\n",
    "print(f'len p0 {len(port0List)} len p1 {len(port1List)}')\n",
    "f.close()"
   ]
  },
  {
   "cell_type": "markdown",
   "metadata": {},
   "source": [
    "# python version coincidence check"
   ]
  },
  {
   "cell_type": "code",
   "execution_count": null,
   "metadata": {},
   "outputs": [
    {
     "ename": "IndexError",
     "evalue": "list index out of range",
     "output_type": "error",
     "traceback": [
      "\u001b[0;31m---------------------------------------------------------------------------\u001b[0m",
      "\u001b[0;31mIndexError\u001b[0m                                Traceback (most recent call last)",
      "\u001b[1;32m/Users/frikken.1/documents/ret/surfaceStation/udaqTimeTesting/gpioTSRead.ipynb Cell 6\u001b[0m line \u001b[0;36m6\n\u001b[1;32m      <a href='vscode-notebook-cell:/Users/frikken.1/documents/ret/surfaceStation/udaqTimeTesting/gpioTSRead.ipynb#W5sZmlsZQ%3D%3D?line=1'>2</a>\u001b[0m j \u001b[39m=\u001b[39m\u001b[39m0\u001b[39m\n\u001b[1;32m      <a href='vscode-notebook-cell:/Users/frikken.1/documents/ret/surfaceStation/udaqTimeTesting/gpioTSRead.ipynb#W5sZmlsZQ%3D%3D?line=2'>3</a>\u001b[0m \u001b[39mfor\u001b[39;00m i \u001b[39min\u001b[39;00m port0List:\n\u001b[0;32m----> <a href='vscode-notebook-cell:/Users/frikken.1/documents/ret/surfaceStation/udaqTimeTesting/gpioTSRead.ipynb#W5sZmlsZQ%3D%3D?line=5'>6</a>\u001b[0m     \u001b[39mif\u001b[39;00m (\u001b[39mabs\u001b[39m(closest(port1List,i)\u001b[39m-\u001b[39m i)) \u001b[39m<\u001b[39m \u001b[39m1e5\u001b[39m:\n\u001b[1;32m      <a href='vscode-notebook-cell:/Users/frikken.1/documents/ret/surfaceStation/udaqTimeTesting/gpioTSRead.ipynb#W5sZmlsZQ%3D%3D?line=6'>7</a>\u001b[0m         j\u001b[39m+\u001b[39m\u001b[39m=\u001b[39m\u001b[39m1\u001b[39m\n\u001b[1;32m      <a href='vscode-notebook-cell:/Users/frikken.1/documents/ret/surfaceStation/udaqTimeTesting/gpioTSRead.ipynb#W5sZmlsZQ%3D%3D?line=7'>8</a>\u001b[0m         \u001b[39m#print(closest(port1List,i)- i)\u001b[39;00m\n",
      "\u001b[1;32m/Users/frikken.1/documents/ret/surfaceStation/udaqTimeTesting/gpioTSRead.ipynb Cell 6\u001b[0m line \u001b[0;36m2\n\u001b[1;32m     <a href='vscode-notebook-cell:/Users/frikken.1/documents/ret/surfaceStation/udaqTimeTesting/gpioTSRead.ipynb#W5sZmlsZQ%3D%3D?line=17'>18</a>\u001b[0m \u001b[39mdef\u001b[39;00m \u001b[39mclosest\u001b[39m(lst, K):\n\u001b[1;32m     <a href='vscode-notebook-cell:/Users/frikken.1/documents/ret/surfaceStation/udaqTimeTesting/gpioTSRead.ipynb#W5sZmlsZQ%3D%3D?line=18'>19</a>\u001b[0m     \u001b[39m#using heapq.nsmallest() to find the element in the list with the smallest absolute difference with K\u001b[39;00m\n\u001b[0;32m---> <a href='vscode-notebook-cell:/Users/frikken.1/documents/ret/surfaceStation/udaqTimeTesting/gpioTSRead.ipynb#W5sZmlsZQ%3D%3D?line=19'>20</a>\u001b[0m     \u001b[39mreturn\u001b[39;00m heapq\u001b[39m.\u001b[39;49mnsmallest(\u001b[39m1\u001b[39;49m, lst, key\u001b[39m=\u001b[39;49m\u001b[39mlambda\u001b[39;49;00m x: \u001b[39mabs\u001b[39;49m(x\u001b[39m-\u001b[39;49mK))[\u001b[39m0\u001b[39;49m]\n",
      "\u001b[0;31mIndexError\u001b[0m: list index out of range"
     ]
    }
   ],
   "source": [
    "pltList = []\n",
    "j =0\n",
    "for i in port0List:\n",
    "    \n",
    "    \n",
    "    if (abs(closest(port1List,i)- i)) < 1e5:\n",
    "        j+=1\n",
    "        #print(closest(port1List,i)- i)\n",
    "        pltList.append(closest(port1List,i)- i)\n",
    "print(j)"
   ]
  },
  {
   "cell_type": "code",
   "execution_count": 321,
   "metadata": {},
   "outputs": [
    {
     "name": "stdout",
     "output_type": "stream",
     "text": [
      "4372426\n",
      "17082851\n",
      "16177426\n",
      "17055278\n",
      "17053667\n",
      "17055852\n",
      "17103759\n",
      "24117685\n",
      "49935130\n",
      "49972925\n"
     ]
    }
   ],
   "source": [
    "pltList = []\n",
    "for n,i in enumerate(port0List):\n",
    "    #print(i)\n",
    "    if n < len(port0List)-1:\n",
    "        #if port0List[n+1] - i < 1.2e6:\n",
    "        if n< 10:\n",
    "            print(port0List[n+1] - i)\n",
    "        #if port0List[n+1] - i > 1.9e7 and port0List[n+1] - i < 2.1e7:\n",
    "        pltList.append(port0List[n+1] - i)"
   ]
  },
  {
   "cell_type": "code",
   "execution_count": 322,
   "metadata": {},
   "outputs": [
    {
     "name": "stdout",
     "output_type": "stream",
     "text": [
      "35322980.882791325 35251347.23726513\n"
     ]
    }
   ],
   "source": [
    "print(np.mean(pltList),np.std(pltList))"
   ]
  },
  {
   "cell_type": "code",
   "execution_count": 323,
   "metadata": {},
   "outputs": [
    {
     "name": "stdout",
     "output_type": "stream",
     "text": [
      " mean 35322981.0 ns std dev 35251347.0 ns\n"
     ]
    },
    {
     "data": {
      "image/png": "[encoded data removed]",
      "text/plain": [
       "<Figure size 640x480 with 1 Axes>"
      ]
     },
     "metadata": {},
     "output_type": "display_data"
    }
   ],
   "source": [
    "mean,std = norm.fit(pltList)\n",
    "\n",
    "print(f' mean {mean.round(0)} ns std dev {std.round(0)} ns')\n",
    "plt.hist(pltList, bins = 100)\n",
    "plt.yscale('log')\n",
    "#\n",
    "#plt.xlim(-2e4,3e4)\n",
    "#plt.xlim(meanVal - 10000, meanVal +20000)"
   ]
  },
  {
   "cell_type": "markdown",
   "metadata": {},
   "source": [
    "# c version"
   ]
  },
  {
   "cell_type": "code",
   "execution_count": 324,
   "metadata": {},
   "outputs": [
    {
     "name": "stdout",
     "output_type": "stream",
     "text": [
      "164\n",
      "1403\n"
     ]
    }
   ],
   "source": [
    "port0List = []\n",
    "port1List = []\n",
    "f = open(path+\"gpioPort0.txt\", \"r\")\n",
    "i=0\n",
    "for x in f:\n",
    "    i+=1\n",
    "    num = x.strip('\\n').split('.')\n",
    "    numVal = num[0]+num[1]\n",
    "    #print(num)\n",
    "    timeVal = np.uint64(numVal)\n",
    "    #print(timeVal)\n",
    "    port0List.append(timeVal)\n",
    "    #print(numVal)\n",
    "print(len(port0List))\n",
    "f.close()\n",
    "\n",
    "f = open(path+\"gpioPort1.txt\", \"r\")\n",
    "i=0\n",
    "for x in f:\n",
    "    i+=1\n",
    "    num = x.strip('\\n').split('.')\n",
    "    numVal = num[0]+num[1]\n",
    "    #print(num)\n",
    "    timeVal = np.uint64(numVal)\n",
    "    #print(timeVal)\n",
    "    port1List.append(timeVal)\n",
    "    #print(numVal)\n",
    "print(len(port1List))"
   ]
  },
  {
   "cell_type": "code",
   "execution_count": 325,
   "metadata": {},
   "outputs": [
    {
     "name": "stdout",
     "output_type": "stream",
     "text": [
      "718111\n",
      "8178259\n",
      "5633445\n",
      "10926055\n",
      "5750963\n",
      "10890852\n",
      "5778815\n",
      "2837833\n",
      "8079741\n",
      "5753074\n"
     ]
    }
   ],
   "source": [
    "pltList = []\n",
    "for n,i in enumerate(port0List):\n",
    "    #print(i)\n",
    "    if n < len(port0List)-1:\n",
    "        #if port0List[n+1] - i < 1.2e6:\n",
    "        if n< 10:\n",
    "            print(port0List[n+1] - i)\n",
    "        #if port0List[n+1] - i > 1.9e7 and port0List[n+1] - i < 2.1e7:\n",
    "        pltList.append(port0List[n+1] - i)"
   ]
  },
  {
   "cell_type": "code",
   "execution_count": 326,
   "metadata": {},
   "outputs": [
    {
     "name": "stdout",
     "output_type": "stream",
     "text": [
      "7111104.969325153 2882339.4345158665\n"
     ]
    }
   ],
   "source": [
    "print(np.mean(pltList),np.std(pltList))"
   ]
  },
  {
   "cell_type": "code",
   "execution_count": 327,
   "metadata": {},
   "outputs": [
    {
     "name": "stdout",
     "output_type": "stream",
     "text": [
      " mean 7111105.0 ns std dev 2882339.0 ns\n"
     ]
    },
    {
     "data": {
      "image/png": "[encoded data removed]",
      "text/plain": [
       "<Figure size 640x480 with 1 Axes>"
      ]
     },
     "metadata": {},
     "output_type": "display_data"
    }
   ],
   "source": [
    "mean,std = norm.fit(pltList)\n",
    "\n",
    "print(f' mean {mean.round(0)} ns std dev {std.round(0)} ns')\n",
    "plt.hist(pltList, bins = 1000)\n",
    "plt.yscale('log')\n",
    "#plt.xlim(1.9e7,2.1e7)"
   ]
  },
  {
   "cell_type": "code",
   "execution_count": 318,
   "metadata": {},
   "outputs": [
    {
     "data": {
      "text/plain": [
       "0.05"
      ]
     },
     "execution_count": 318,
     "metadata": {},
     "output_type": "execute_result"
    }
   ],
   "source": [
    "1/20."
   ]
  },
  {
   "cell_type": "code",
   "execution_count": null,
   "metadata": {},
   "outputs": [],
   "source": []
  }
 ],
 "metadata": {
  "kernelspec": {
   "display_name": "Python 3",
   "language": "python",
   "name": "python3"
  },
  "language_info": {
   "codemirror_mode": {
    "name": "ipython",
    "version": 3
   },
   "file_extension": ".py",
   "mimetype": "text/x-python",
   "name": "python",
   "nbconvert_exporter": "python",
   "pygments_lexer": "ipython3",
   "version": "3.9.6"
  }
 },
 "nbformat": 4,
 "nbformat_minor": 2
}
