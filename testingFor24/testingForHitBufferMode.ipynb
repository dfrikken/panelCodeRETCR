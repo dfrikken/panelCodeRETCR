{
 "cells": [
  {
   "cell_type": "code",
   "execution_count": 1,
   "metadata": {},
   "outputs": [],
   "source": [
    "import sys\n",
    "import os\n",
    "import argparse\n",
    "import time\n",
    "import glob\n",
    "import serial\n",
    "from datetime import datetime, timedelta\n",
    "import json\n",
    "from cobs import cobs\n",
    "import hitBufferDefine as hit\n",
    "import random\n",
    "from threading import Thread\n",
    "import numpy as np"
   ]
  },
  {
   "cell_type": "code",
   "execution_count": 2,
   "metadata": {},
   "outputs": [
    {
     "name": "stdout",
     "output_type": "stream",
     "text": [
      "pulling threshold and voltage settings for panel 12\n"
     ]
    }
   ],
   "source": [
    "hit.getThresholdAndVoltage(12,30)"
   ]
  },
  {
   "cell_type": "code",
   "execution_count": 7,
   "metadata": {},
   "outputs": [
    {
     "name": "stdout",
     "output_type": "stream",
     "text": [
      "2024-04-22\n"
     ]
    }
   ],
   "source": [
    "panel = 12\n",
    "path = '/Users/frikken.1/documents/GitHub/panelCodeRETCR/testingFor24/runs/normalizationRuns/'\n",
    "dir_list = os.listdir(path)\n",
    "#print(\"Files and directories in '\", path, \"' :\")\n",
    "#print(dir_list)\n",
    "fileList = []\n",
    "for i in dir_list:\n",
    "    if '2024' in i:\n",
    "        print(i)\n",
    "        fileList.append(i)"
   ]
  },
  {
   "cell_type": "code",
   "execution_count": 18,
   "metadata": {},
   "outputs": [
    {
     "name": "stdout",
     "output_type": "stream",
     "text": [
      "449.22 2850 1640 296.5000\n",
      "\n",
      "2850 1640\n"
     ]
    }
   ],
   "source": [
    "panel = 12\n",
    "path = '/Users/frikken.1/documents/GitHub/panelCodeRETCR/testingFor24/runs/normalizationRuns'\n",
    "dir_list = os.listdir(path)\n",
    "#print(\"Files and directories in '\", path, \"' :\")\n",
    "#print(dir_list)\n",
    "fileList = []\n",
    "for i in dir_list:\n",
    "    if '2024' in i:\n",
    "        #print(i)\n",
    "        fileList.append(i)\n",
    "\n",
    "fileList.sort()\n",
    "#print(fileList[-1])\n",
    "myFile = f'{path}/{fileList[-1]}/thresholdSweeps/panel{panel}ThresholdSweep_{fileList[-1]}.txt'\n",
    "#print(myFile)\n",
    "with open(myFile, 'r') as f:\n",
    "    settingsList = []\n",
    "    settingsList = f.readlines()\n",
    "\n",
    "rateList = []\n",
    "for n,j in enumerate(settingsList):\n",
    "    split = j.split(',')\n",
    "    if n > 1:\n",
    "        \n",
    "        rateList.append(float(split[2]))\n",
    "    \n",
    "\n",
    "\n",
    "#print(rateList)\n",
    "myIndex = hit.closest(rateList,100)\n",
    "print(rateList[myIndex], settingsList[myIndex+2].split(',')[0],settingsList[myIndex+2].split(',')[1], settingsList[myIndex+2].split(',')[3])\n",
    "#cel = hit.kelvinToCelcius(float(settingsList[myIndex+2].split(',')[3]))\n",
    "#print(cel)\n",
    "print(settingsList[myIndex+2].split(',')[0],settingsList[myIndex+2].split(',')[1])\n"
   ]
  },
  {
   "cell_type": "code",
   "execution_count": 19,
   "metadata": {},
   "outputs": [
    {
     "name": "stdout",
     "output_type": "stream",
     "text": [
      "123123 12413\n"
     ]
    }
   ],
   "source": [
    "test = [123123,12413]\n",
    "print(*test)"
   ]
  },
  {
   "cell_type": "code",
   "execution_count": 4,
   "metadata": {},
   "outputs": [],
   "source": [
    "def closest(list, Number):\n",
    "    aux = []\n",
    "    for valor in list:\n",
    "        aux.append(abs(Number-valor))\n",
    "\n",
    "    return aux.index(min(aux))"
   ]
  },
  {
   "cell_type": "code",
   "execution_count": 5,
   "metadata": {},
   "outputs": [
    {
     "name": "stdout",
     "output_type": "stream",
     "text": [
      "30.22 2800,2560,30.22,296.1562\n",
      "\n"
     ]
    }
   ],
   "source": [
    "myIndex = hit.closest(rateList,30)\n",
    "print(rateList[myIndex], settingsList[myIndex+2])"
   ]
  },
  {
   "cell_type": "code",
   "execution_count": 36,
   "metadata": {},
   "outputs": [
    {
     "data": {
      "text/plain": [
       "3.0"
      ]
     },
     "execution_count": 36,
     "metadata": {},
     "output_type": "execute_result"
    }
   ],
   "source": [
    "min(rateList, key=lambda x:abs(x-30))"
   ]
  },
  {
   "cell_type": "code",
   "execution_count": 14,
   "metadata": {},
   "outputs": [
    {
     "name": "stdout",
     "output_type": "stream",
     "text": [
      "1\n",
      "TOOK TOO LONG\n"
     ]
    }
   ],
   "source": [
    "import time as time\n",
    "import signal\n",
    "\n",
    "#Close session\n",
    "def handler(signum, frame):\n",
    "    print(1)\n",
    "    raise Exception('Action took too much time')\n",
    "\n",
    "\n",
    "signal.signal(signal.SIGALRM, handler)\n",
    "signal.alarm(3) #Set the parameter to the amount of seconds you want to wait\n",
    "\n",
    "try:\n",
    "    #RUN CODE HERE\n",
    "\n",
    "    for i in range(0,5):\n",
    "        time.sleep(1)\n",
    "except:\n",
    "    print(\"TOOK TOO LONG\")\n",
    "\n",
    "signal.alarm(10) #Resets the alarm to 10 new seconds\n",
    "signal.alarm(0) #Disables the alarm \n",
    "\n",
    "\n",
    "time.sleep(20)\n"
   ]
  },
  {
   "cell_type": "code",
   "execution_count": 17,
   "metadata": {},
   "outputs": [
    {
     "name": "stdout",
     "output_type": "stream",
     "text": [
      "0\n",
      "1\n",
      "2\n",
      "3\n",
      "4\n",
      "5\n",
      "6\n",
      "7\n",
      "8\n",
      "9\n"
     ]
    }
   ],
   "source": [
    "for i in range(10):\n",
    "    print(i)\n"
   ]
  },
  {
   "cell_type": "code",
   "execution_count": 16,
   "metadata": {},
   "outputs": [
    {
     "name": "stdout",
     "output_type": "stream",
     "text": [
      "2024-04-02 15:41:19.695831\n",
      "2024-04-02 15:41:29.695831\n",
      "working\n",
      "working\n",
      "working\n",
      "working\n",
      "working\n",
      "working\n",
      "working\n",
      "working\n",
      "working\n",
      "working\n",
      "done\n"
     ]
    }
   ],
   "source": [
    "now = datetime.now()\n",
    "#print(now)\n",
    "\n",
    "nextDay = now+ timedelta(days=1)\n",
    "#print(nextDay)\n",
    "\n",
    "while ( datetime.now() < nextDay):\n",
    "    print('working')\n",
    "    time.sleep(1)\n",
    "\n",
    "print('done')"
   ]
  },
  {
   "cell_type": "code",
   "execution_count": 2,
   "metadata": {},
   "outputs": [
    {
     "name": "stdout",
     "output_type": "stream",
     "text": [
      "the definition file imported succesfully\n"
     ]
    }
   ],
   "source": [
    "hit.testFunction()"
   ]
  },
  {
   "cell_type": "code",
   "execution_count": 5,
   "metadata": {},
   "outputs": [
    {
     "name": "stdout",
     "output_type": "stream",
     "text": [
      "log directory changed to test/test\n",
      "test/test\n"
     ]
    },
    {
     "data": {
      "text/plain": [
       "False"
      ]
     },
     "execution_count": 5,
     "metadata": {},
     "output_type": "execute_result"
    }
   ],
   "source": [
    "newDir = hit.changeGlobals('test/test')\n",
    "print(newDir)\n",
    "os.path.isdir(newDir)"
   ]
  },
  {
   "cell_type": "code",
   "execution_count": 41,
   "metadata": {},
   "outputs": [
    {
     "name": "stdout",
     "output_type": "stream",
     "text": [
      "0 2898 367039\n",
      "0 2898 417039\n",
      "0 2898 467039\n",
      "0 2898 517039\n",
      "0 2898 567039\n",
      "0 2898 617039\n"
     ]
    }
   ],
   "source": [
    "uDaqTime = '0 2898 317039'\n",
    "splitTime = uDaqTime.split(' ')\n",
    "\n",
    "timeVal = splitTime[1] +'.'+ splitTime[2]\n",
    "addTime = np.float64(timeVal)\n",
    "\n",
    "for i in range(6):\n",
    "    addTime = np.float64(addTime)+.05\n",
    "    addString = f\"{0} {str(addTime.round(6)).split('.')[0]} {str(addTime.round(6)).split('.')[1]}\"\n",
    "    print(addString)\n",
    "    "
   ]
  },
  {
   "cell_type": "code",
   "execution_count": null,
   "metadata": {},
   "outputs": [],
   "source": []
  },
  {
   "cell_type": "code",
   "execution_count": null,
   "metadata": {},
   "outputs": [],
   "source": []
  },
  {
   "cell_type": "code",
   "execution_count": 6,
   "metadata": {},
   "outputs": [
    {
     "name": "stdout",
     "output_type": "stream",
     "text": [
      "gpio monitor for pin 22\n",
      "running for 10 seconds\n"
     ]
    }
   ],
   "source": [
    "gpioOut = hit.gpioMon(22,10,rundir,0)\n",
    "\n",
    "\n",
    "#print(gpioFile)"
   ]
  },
  {
   "cell_type": "code",
   "execution_count": 33,
   "metadata": {},
   "outputs": [
    {
     "name": "stdout",
     "output_type": "stream",
     "text": [
      "11 scheduled triggers captured\n"
     ]
    }
   ],
   "source": []
  },
  {
   "cell_type": "code",
   "execution_count": 17,
   "metadata": {},
   "outputs": [
    {
     "data": {
      "text/plain": [
       "(b'gpio 22\\npath is /Users/frikken.1/documents/ret/retcr24/panel_1_run_0000004/gpio22Mon.txt\\nlooping for 20 seconds\\nstartTime is 1711125756\\ntime is 1711125756.629918000\\ntime is 1711125757.133388000\\ntime is 1711125757.637559000\\ntime is 1711125758.142220000\\ntime is 1711125758.645869000\\ntime is 1711125759.150554000\\ntime is 1711125759.654872000\\ntime is 1711125760.159913000\\ntime is 1711125760.662895000\\ntime is 1711125761.163434000\\ntime is 1711125761.663691000\\ntime is 1711125762.166781000\\ntime is 1711125762.671862000\\ntime is 1711125763.175502000\\ntime is 1711125763.679156000\\ntime is 1711125764.184202000\\ntime is 1711125764.688793000\\ntime is 1711125765.193157000\\ntime is 1711125765.693552000\\ntime is 1711125766.195794000\\ntime is 1711125766.700478000\\ntime is 1711125767.204209000\\ntime is 1711125767.704484000\\ntime is 1711125768.209515000\\ntime is 1711125768.712976000\\ntime is 1711125769.217110000\\ntime is 1711125769.720779000\\ntime is 1711125770.223036000\\ntime is 1711125770.728083000\\ntime is 1711125771.230089000\\ntime is 1711125771.735112000\\ntime is 1711125772.235745000\\ntime is 1711125772.739589000\\ntime is 1711125773.243293000\\ntime is 1711125773.746563000\\ntime is 1711125774.249617000\\ntime is 1711125774.752070000\\ntime is 1711125775.257088000\\ntime is 1711125775.762098000\\ntime is 1711125776.266902000\\n',\n",
       " None)"
      ]
     },
     "execution_count": 17,
     "metadata": {},
     "output_type": "execute_result"
    }
   ],
   "source": [
    "hit.cmdline(f'./testGPIO 22 20 {rundir}')"
   ]
  },
  {
   "cell_type": "code",
   "execution_count": null,
   "metadata": {},
   "outputs": [],
   "source": []
  },
  {
   "cell_type": "code",
   "execution_count": null,
   "metadata": {},
   "outputs": [],
   "source": []
  },
  {
   "cell_type": "code",
   "execution_count": 8,
   "metadata": {},
   "outputs": [
    {
     "name": "stdout",
     "output_type": "stream",
     "text": [
      "start of run = 2024-03-21 14:44:15.476683\n",
      "end of run = 2024-03-21 14:49:00\n",
      "/Users/frikken.1/documents/ret/retcr24/panel_1_run_0000013 panel_1_run_0000013\n",
      "run 0 subrun 1 with 284.522223 seconds to hour\n",
      "\tsimulated subrun complete sleeping random time for buffer read\n",
      "\tbuffer read out to next subrun\n",
      "\ttime elapsed 27.862416 \n",
      " \n",
      "run 0 subrun 2 with 256.660835 seconds to hour\n",
      "\tsimulated subrun complete sleeping random time for buffer read\n",
      "\tbuffer read out to next subrun\n",
      "\ttime elapsed 55.742493 \n",
      " \n",
      "run 0 subrun 3 with 228.780765 seconds to hour\n",
      "\tsimulated subrun complete sleeping random time for buffer read\n",
      "\tbuffer read out to next subrun\n",
      "\ttime elapsed 83.460787 \n",
      " \n",
      "run 0 subrun 4 with 201.062451 seconds to hour\n",
      "\tsimulated subrun complete sleeping random time for buffer read\n",
      "\tbuffer read out to next subrun\n",
      "\ttime elapsed 111.592615 \n",
      " \n",
      "run 0 subrun 5 with 172.930668 seconds to hour\n",
      "\tsimulated subrun complete sleeping random time for buffer read\n",
      "\tbuffer read out to next subrun\n",
      "\ttime elapsed 139.300333 \n",
      " \n",
      "run 0 subrun 6 with 145.222918 seconds to hour\n",
      "\tsimulated subrun complete sleeping random time for buffer read\n",
      "\tbuffer read out to next subrun\n",
      "\ttime elapsed 167.192908 \n",
      " \n",
      "run 0 subrun 7 with 117.330338 seconds to hour\n",
      "\tsimulated subrun complete sleeping random time for buffer read\n",
      "\tbuffer read out to next subrun\n",
      "\ttime elapsed 195.235604 \n",
      " \n",
      "run 0 subrun 8 with 89.287627 seconds to hour\n",
      "\tsimulated subrun complete sleeping random time for buffer read\n",
      "\tbuffer read out to next subrun\n",
      "\ttime elapsed 222.807728 \n",
      " \n",
      "run 0 subrun 9 with 61.715553 seconds to hour\n",
      "\tsimulated subrun complete sleeping random time for buffer read\n",
      "\tbuffer read out to next subrun\n",
      "\ttime elapsed 250.611189 \n",
      " \n",
      "run 0 subrun 10 with 33.912071 seconds to hour\n",
      "\tsimulated subrun complete sleeping random time for buffer read\n",
      "\tbuffer read out to next subrun\n",
      "\ttime elapsed 278.800933 \n",
      " \n",
      "last subrun, sleeping for remaining time\n",
      "5.722315\n",
      "\tsimulated subrun complete sleeping random time for buffer read\n",
      "\ttime elapsed 283 seconds\n",
      "2024-03-21 14:48:59.068885\n",
      "remaining time to sleep 0.931093\n",
      " \n",
      "start of run = 2024-03-21 14:49:00.004113\n",
      "end of run = 2024-03-21 14:54:00\n",
      "/Users/frikken.1/documents/ret/retcr24/panel_1_run_0000014 panel_1_run_0000014\n",
      "run 1 subrun 1 with 299.993121 seconds to hour\n",
      "\tsimulated subrun complete sleeping random time for buffer read\n",
      "\tbuffer read out to next subrun\n",
      "\ttime elapsed 28.071801 \n",
      " \n",
      "run 1 subrun 2 with 271.924055 seconds to hour\n",
      "\tsimulated subrun complete sleeping random time for buffer read\n",
      "\tbuffer read out to next subrun\n",
      "\ttime elapsed 55.673907 \n",
      " \n",
      "run 1 subrun 3 with 244.321929 seconds to hour\n",
      "\tsimulated subrun complete sleeping random time for buffer read\n",
      "\tbuffer read out to next subrun\n",
      "\ttime elapsed 83.77814 \n",
      " \n",
      "run 1 subrun 4 with 216.217687 seconds to hour\n",
      "\tsimulated subrun complete sleeping random time for buffer read\n",
      "\tbuffer read out to next subrun\n",
      "\ttime elapsed 111.936501 \n",
      " \n",
      "run 1 subrun 5 with 188.059332 seconds to hour\n",
      "\tsimulated subrun complete sleeping random time for buffer read\n",
      "\tbuffer read out to next subrun\n",
      "\ttime elapsed 139.948263 \n",
      " \n",
      "run 1 subrun 6 with 160.047544 seconds to hour\n",
      "\tsimulated subrun complete sleeping random time for buffer read\n",
      "\tbuffer read out to next subrun\n",
      "\ttime elapsed 168.148971 \n",
      " \n",
      "run 1 subrun 7 with 131.84686 seconds to hour\n",
      "\tsimulated subrun complete sleeping random time for buffer read\n",
      "\tbuffer read out to next subrun\n",
      "\ttime elapsed 195.797773 \n",
      " \n",
      "run 1 subrun 8 with 104.198058 seconds to hour\n",
      "\tsimulated subrun complete sleeping random time for buffer read\n",
      "\tbuffer read out to next subrun\n",
      "\ttime elapsed 223.64316 \n",
      " \n",
      "run 1 subrun 9 with 76.352639 seconds to hour\n",
      "\tsimulated subrun complete sleeping random time for buffer read\n",
      "\tbuffer read out to next subrun\n",
      "\ttime elapsed 251.515657 \n",
      " \n",
      "run 1 subrun 10 with 48.480155 seconds to hour\n",
      "\tsimulated subrun complete sleeping random time for buffer read\n",
      "\tbuffer read out to next subrun\n",
      "\ttime elapsed 279.132015 \n",
      " \n",
      "last subrun, sleeping for remaining time\n",
      "20.863782\n",
      "\tsimulated subrun complete sleeping random time for buffer read\n",
      "\ttime elapsed 298 seconds\n",
      "2024-03-21 14:53:58.887662\n",
      "remaining time to sleep 1.112325\n",
      " \n",
      "start of run = 2024-03-21 14:54:00.005390\n",
      "end of run = 2024-03-21 14:59:00\n",
      "/Users/frikken.1/documents/ret/retcr24/panel_1_run_0000015 panel_1_run_0000015\n",
      "run 2 subrun 1 with 299.991081 seconds to hour\n",
      "\tsimulated subrun complete sleeping random time for buffer read\n",
      "\tbuffer read out to next subrun\n",
      "\ttime elapsed 28.131259 \n",
      " \n",
      "run 2 subrun 2 with 271.863297 seconds to hour\n",
      "\tsimulated subrun complete sleeping random time for buffer read\n",
      "\tbuffer read out to next subrun\n",
      "\ttime elapsed 55.653584 \n",
      " \n",
      "run 2 subrun 3 with 244.34097 seconds to hour\n",
      "\tsimulated subrun complete sleeping random time for buffer read\n",
      "\tbuffer read out to next subrun\n",
      "\ttime elapsed 83.635634 \n",
      " \n",
      "run 2 subrun 4 with 216.35892 seconds to hour\n",
      "\tsimulated subrun complete sleeping random time for buffer read\n",
      "\tbuffer read out to next subrun\n",
      "\ttime elapsed 111.606592 \n",
      " \n",
      "run 2 subrun 5 with 188.387951 seconds to hour\n",
      "\tsimulated subrun complete sleeping random time for buffer read\n",
      "\tbuffer read out to next subrun\n",
      "\ttime elapsed 139.225714 \n",
      " \n",
      "run 2 subrun 6 with 160.768839 seconds to hour\n",
      "\tsimulated subrun complete sleeping random time for buffer read\n",
      "\tbuffer read out to next subrun\n",
      "\ttime elapsed 167.343171 \n",
      " \n",
      "run 2 subrun 7 with 132.651409 seconds to hour\n",
      "\tsimulated subrun complete sleeping random time for buffer read\n",
      "\tbuffer read out to next subrun\n",
      "\ttime elapsed 195.160083 \n",
      " \n",
      "run 2 subrun 8 with 104.834499 seconds to hour\n"
     ]
    },
    {
     "ename": "KeyboardInterrupt",
     "evalue": "",
     "output_type": "error",
     "traceback": [
      "\u001b[0;31m---------------------------------------------------------------------------\u001b[0m",
      "\u001b[0;31mKeyboardInterrupt\u001b[0m                         Traceback (most recent call last)",
      "\u001b[1;32m/Users/frikken.1/documents/GitHub/panelCodeRETCR/testingFor24/testingForHitBufferMode.ipynb Cell 3\u001b[0m line \u001b[0;36m1\n\u001b[1;32m     <a href='vscode-notebook-cell:/Users/frikken.1/documents/GitHub/panelCodeRETCR/testingFor24/testingForHitBufferMode.ipynb#X14sZmlsZQ%3D%3D?line=14'>15</a>\u001b[0m \u001b[39mif\u001b[39;00m subrunTime \u001b[39m<\u001b[39m remainingTime:\n\u001b[1;32m     <a href='vscode-notebook-cell:/Users/frikken.1/documents/GitHub/panelCodeRETCR/testingFor24/testingForHitBufferMode.ipynb#X14sZmlsZQ%3D%3D?line=15'>16</a>\u001b[0m     \u001b[39mprint\u001b[39m(\u001b[39mf\u001b[39m\u001b[39m'\u001b[39m\u001b[39mrun \u001b[39m\u001b[39m{\u001b[39;00mrun\u001b[39m}\u001b[39;00m\u001b[39m subrun \u001b[39m\u001b[39m{\u001b[39;00mn\u001b[39m}\u001b[39;00m\u001b[39m with \u001b[39m\u001b[39m{\u001b[39;00mremainingTime\u001b[39m}\u001b[39;00m\u001b[39m seconds to hour\u001b[39m\u001b[39m'\u001b[39m)\n\u001b[0;32m---> <a href='vscode-notebook-cell:/Users/frikken.1/documents/GitHub/panelCodeRETCR/testingFor24/testingForHitBufferMode.ipynb#X14sZmlsZQ%3D%3D?line=16'>17</a>\u001b[0m     time\u001b[39m.\u001b[39;49msleep(subrunTime)\n\u001b[1;32m     <a href='vscode-notebook-cell:/Users/frikken.1/documents/GitHub/panelCodeRETCR/testingFor24/testingForHitBufferMode.ipynb#X14sZmlsZQ%3D%3D?line=17'>18</a>\u001b[0m     \u001b[39mprint\u001b[39m(\u001b[39mf\u001b[39m\u001b[39m'\u001b[39m\u001b[39m\\t\u001b[39;00m\u001b[39msimulated subrun complete sleeping random time for buffer read\u001b[39m\u001b[39m'\u001b[39m)\n\u001b[1;32m     <a href='vscode-notebook-cell:/Users/frikken.1/documents/GitHub/panelCodeRETCR/testingFor24/testingForHitBufferMode.ipynb#X14sZmlsZQ%3D%3D?line=18'>19</a>\u001b[0m     num \u001b[39m=\u001b[39m random\u001b[39m.\u001b[39mrandrange(\u001b[39m50\u001b[39m,\u001b[39m120\u001b[39m)\n",
      "\u001b[0;31mKeyboardInterrupt\u001b[0m: "
     ]
    }
   ],
   "source": [
    "\n",
    "\n",
    "\n",
    "\n",
    "subrunTime = 27\n",
    "\n",
    "for run in range(5):\n",
    "    startTime = datetime.now()\n",
    "    print(f'start of run = {startTime}')\n",
    "    nextHour = startTime.replace(second=0, microsecond=0)+ timedelta(minutes=5)\n",
    "    print(f'end of run = {nextHour}')\n",
    "    n = 0\n",
    "    rundir, runfile = hit.getNextRun(1,\"/Users/frikken.1/documents/ret/retcr24\")\n",
    "    print(rundir, runfile)\n",
    "    while(True):\n",
    "        n+=1\n",
    "        now = datetime.now()\n",
    "        remainingTime = (nextHour - now).total_seconds()\n",
    "        if subrunTime < remainingTime:\n",
    "            print(f'run {run} subrun {n} with {remainingTime} seconds to hour')\n",
    "            time.sleep(subrunTime)\n",
    "            print(f'\\tsimulated subrun complete sleeping random time for buffer read')\n",
    "            num = random.randrange(50,120)\n",
    "            #print(num/100)\n",
    "            beginTime = time.time_ns()\n",
    "            time.sleep(num/100)\n",
    "            endTime = time.time_ns()\n",
    "            hit.deadTimeAppend(beginTime, endTime, rundir)\n",
    "            print(f'\\tbuffer read out to next subrun')\n",
    "            print(f'\\ttime elapsed {(datetime.now() - startTime).total_seconds()} ')\n",
    "            print(\" \")\n",
    "        else:\n",
    "            print(f'last subrun, sleeping for remaining time')\n",
    "            now = datetime.now()\n",
    "            remainingTime = (nextHour - now).total_seconds()\n",
    "            print(remainingTime)\n",
    "            if remainingTime>5:\n",
    "                print(f'\\tsimulated subrun complete sleeping random time for buffer read')\n",
    "                time.sleep(remainingTime-2)\n",
    "                num = random.randrange(50,120)\n",
    "                beginTime = time.time_ns()\n",
    "                time.sleep(num/100)\n",
    "                endTime = time.time_ns()\n",
    "                hit.deadTimeAppend(beginTime, endTime, rundir)\n",
    "                print(f'\\ttime elapsed {(datetime.now() - startTime).seconds} seconds')\n",
    "                print(datetime.now())\n",
    "                now = datetime.now()\n",
    "                remainingTime = (nextHour - now).total_seconds()\n",
    "                print(f'remaining time to sleep {remainingTime}')\n",
    "                time.sleep(remainingTime)\n",
    "                print(\" \")\n",
    "                break\n",
    "            else:\n",
    "                print(\"here\")\n",
    "                time.sleep(remainingTime)\n",
    "                break\n",
    "            \n"
   ]
  },
  {
   "cell_type": "code",
   "execution_count": 36,
   "metadata": {},
   "outputs": [
    {
     "name": "stdout",
     "output_type": "stream",
     "text": [
      "start of run = 2024-03-21 12:54:19.385567\n",
      "end of run = 2024-03-21 12:56:00\n",
      "100.614433\n"
     ]
    }
   ],
   "source": [
    "startTime = datetime.now()\n",
    "print(f'start of run = {startTime}')\n",
    "nextHour = startTime.replace(second=0, microsecond=0, minute=startTime.minute+2, hour = now.hour)\n",
    "print(f'end of run = {nextHour}')\n",
    "\n",
    "remainingTime = nextHour - startTime\n",
    "\n",
    "print(remainingTime.total_seconds())"
   ]
  },
  {
   "cell_type": "code",
   "execution_count": 59,
   "metadata": {},
   "outputs": [
    {
     "name": "stdout",
     "output_type": "stream",
     "text": [
      "0.78\n",
      "1.14\n",
      "1.17\n",
      "0.57\n",
      "1.08\n",
      "0.6\n",
      "1.11\n",
      "0.67\n",
      "0.83\n",
      "0.52\n",
      "0.8\n",
      "0.64\n",
      "1.1\n",
      "0.7\n",
      "0.73\n",
      "0.78\n",
      "0.79\n",
      "0.59\n",
      "1.12\n",
      "0.93\n"
     ]
    }
   ],
   "source": [
    "for i in range(20):\n",
    "    num = random.randrange(50,120)\n",
    "    print(num/100)"
   ]
  },
  {
   "cell_type": "code",
   "execution_count": 52,
   "metadata": {},
   "outputs": [
    {
     "name": "stdout",
     "output_type": "stream",
     "text": [
      "0.486318631703761\n"
     ]
    }
   ],
   "source": [
    "import random\n"
   ]
  },
  {
   "cell_type": "code",
   "execution_count": null,
   "metadata": {},
   "outputs": [],
   "source": []
  }
 ],
 "metadata": {
  "kernelspec": {
   "display_name": "Python 3",
   "language": "python",
   "name": "python3"
  },
  "language_info": {
   "codemirror_mode": {
    "name": "ipython",
    "version": 3
   },
   "file_extension": ".py",
   "mimetype": "text/x-python",
   "name": "python",
   "nbconvert_exporter": "python",
   "pygments_lexer": "ipython3",
   "version": "3.9.6"
  }
 },
 "nbformat": 4,
 "nbformat_minor": 2
}
